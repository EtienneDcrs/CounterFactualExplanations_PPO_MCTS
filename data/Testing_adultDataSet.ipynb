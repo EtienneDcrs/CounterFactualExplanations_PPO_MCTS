{
 "cells": [
  {
   "cell_type": "code",
   "execution_count": 1,
   "metadata": {},
   "outputs": [
    {
     "data": {
      "text/plain": [
       "<module 'Generate_models' from 'c:\\\\Users\\\\sarbaoui01\\\\Counterfactual-explanation\\\\Generate_models.py'>"
      ]
     },
     "execution_count": 1,
     "metadata": {},
     "output_type": "execute_result"
    }
   ],
   "source": [
    "import numpy as np \n",
    "import pandas as pd \n",
    "import matplotlib.pyplot as plt\n",
    "from tensorflow.keras.models import Sequential\n",
    "from tensorflow.keras.layers import Dense,Flatten,InputLayer\n",
    "import zipfile\n",
    "import Generate_models\n",
    "import importlib  \n",
    "import Generate_models\n",
    "importlib.reload(Generate_models)"
   ]
  },
  {
   "cell_type": "code",
   "execution_count": 2,
   "metadata": {},
   "outputs": [],
   "source": [
    "outdirname = 'Datasets/adult'\n",
    "zipfilename = outdirname + '.zip'\n",
    "with zipfile.ZipFile(zipfilename, 'r') as unzip:\n",
    "        unzip.extractall(outdirname)\n",
    "raw_data = np.genfromtxt(outdirname + '/adult.data',delimiter=', ', dtype=str, invalid_raise=False)\n"
   ]
  },
  {
   "cell_type": "code",
   "execution_count": 3,
   "metadata": {},
   "outputs": [],
   "source": [
    "column_names = ['age', 'workclass', 'fnlwgt', 'education', 'educational-num', 'marital-status', 'occupation',\n",
    "                    'relationship', 'race', 'gender', 'capital-gain', 'capital-loss', 'hours-per-week', 'native-country',\n",
    "                    'income']\n",
    "\n",
    "adult_data = pd.DataFrame(raw_data, columns=column_names)"
   ]
  },
  {
   "cell_type": "code",
   "execution_count": 4,
   "metadata": {},
   "outputs": [],
   "source": [
    "adult_data[\"age\"]=adult_data[\"age\"].apply(lambda x: int(x))\n",
    "adult_data[\"fnlwgt\"]=adult_data[\"fnlwgt\"].apply(lambda x: float(x))\n",
    "adult_data[\"educational-num\"]=adult_data[\"educational-num\"].apply(lambda x: int(x))\n",
    "adult_data[\"capital-gain\"]=adult_data[\"capital-gain\"].apply(lambda x: float(x))\n",
    "adult_data[\"capital-loss\"]=adult_data[\"capital-loss\"].apply(lambda x: float(x))\n",
    "adult_data[\"hours-per-week\"]=adult_data[\"hours-per-week\"].apply(lambda x: float(x))\n"
   ]
  },
  {
   "cell_type": "code",
   "execution_count": 5,
   "metadata": {},
   "outputs": [],
   "source": [
    "input_features=['age', 'workclass', 'fnlwgt', 'education', 'educational-num', 'marital-status', 'occupation',\n",
    "                    'relationship', 'race', 'gender', 'capital-gain', 'capital-loss', 'hours-per-week', 'native-country']\n",
    "output=\"income\"\n"
   ]
  },
  {
   "cell_type": "code",
   "execution_count": 6,
   "metadata": {},
   "outputs": [
    {
     "data": {
      "text/html": [
       "<div>\n",
       "<style scoped>\n",
       "    .dataframe tbody tr th:only-of-type {\n",
       "        vertical-align: middle;\n",
       "    }\n",
       "\n",
       "    .dataframe tbody tr th {\n",
       "        vertical-align: top;\n",
       "    }\n",
       "\n",
       "    .dataframe thead th {\n",
       "        text-align: right;\n",
       "    }\n",
       "</style>\n",
       "<table border=\"1\" class=\"dataframe\">\n",
       "  <thead>\n",
       "    <tr style=\"text-align: right;\">\n",
       "      <th></th>\n",
       "      <th>age</th>\n",
       "      <th>workclass</th>\n",
       "      <th>fnlwgt</th>\n",
       "      <th>education</th>\n",
       "      <th>educational-num</th>\n",
       "      <th>marital-status</th>\n",
       "      <th>occupation</th>\n",
       "      <th>relationship</th>\n",
       "      <th>race</th>\n",
       "      <th>gender</th>\n",
       "      <th>capital-gain</th>\n",
       "      <th>capital-loss</th>\n",
       "      <th>hours-per-week</th>\n",
       "      <th>native-country</th>\n",
       "      <th>income</th>\n",
       "    </tr>\n",
       "  </thead>\n",
       "  <tbody>\n",
       "    <tr>\n",
       "      <th>0</th>\n",
       "      <td>39</td>\n",
       "      <td>State-gov</td>\n",
       "      <td>77516.0</td>\n",
       "      <td>Bachelors</td>\n",
       "      <td>13</td>\n",
       "      <td>Never-married</td>\n",
       "      <td>Adm-clerical</td>\n",
       "      <td>Not-in-family</td>\n",
       "      <td>White</td>\n",
       "      <td>Male</td>\n",
       "      <td>2174.0</td>\n",
       "      <td>0.0</td>\n",
       "      <td>40.0</td>\n",
       "      <td>United-States</td>\n",
       "      <td>&lt;=50K</td>\n",
       "    </tr>\n",
       "    <tr>\n",
       "      <th>1</th>\n",
       "      <td>50</td>\n",
       "      <td>Self-emp-not-inc</td>\n",
       "      <td>83311.0</td>\n",
       "      <td>Bachelors</td>\n",
       "      <td>13</td>\n",
       "      <td>Married-civ-spouse</td>\n",
       "      <td>Exec-managerial</td>\n",
       "      <td>Husband</td>\n",
       "      <td>White</td>\n",
       "      <td>Male</td>\n",
       "      <td>0.0</td>\n",
       "      <td>0.0</td>\n",
       "      <td>13.0</td>\n",
       "      <td>United-States</td>\n",
       "      <td>&lt;=50K</td>\n",
       "    </tr>\n",
       "    <tr>\n",
       "      <th>2</th>\n",
       "      <td>38</td>\n",
       "      <td>Private</td>\n",
       "      <td>215646.0</td>\n",
       "      <td>HS-grad</td>\n",
       "      <td>9</td>\n",
       "      <td>Divorced</td>\n",
       "      <td>Handlers-cleaners</td>\n",
       "      <td>Not-in-family</td>\n",
       "      <td>White</td>\n",
       "      <td>Male</td>\n",
       "      <td>0.0</td>\n",
       "      <td>0.0</td>\n",
       "      <td>40.0</td>\n",
       "      <td>United-States</td>\n",
       "      <td>&lt;=50K</td>\n",
       "    </tr>\n",
       "    <tr>\n",
       "      <th>3</th>\n",
       "      <td>53</td>\n",
       "      <td>Private</td>\n",
       "      <td>234721.0</td>\n",
       "      <td>11th</td>\n",
       "      <td>7</td>\n",
       "      <td>Married-civ-spouse</td>\n",
       "      <td>Handlers-cleaners</td>\n",
       "      <td>Husband</td>\n",
       "      <td>Black</td>\n",
       "      <td>Male</td>\n",
       "      <td>0.0</td>\n",
       "      <td>0.0</td>\n",
       "      <td>40.0</td>\n",
       "      <td>United-States</td>\n",
       "      <td>&lt;=50K</td>\n",
       "    </tr>\n",
       "    <tr>\n",
       "      <th>4</th>\n",
       "      <td>28</td>\n",
       "      <td>Private</td>\n",
       "      <td>338409.0</td>\n",
       "      <td>Bachelors</td>\n",
       "      <td>13</td>\n",
       "      <td>Married-civ-spouse</td>\n",
       "      <td>Prof-specialty</td>\n",
       "      <td>Wife</td>\n",
       "      <td>Black</td>\n",
       "      <td>Female</td>\n",
       "      <td>0.0</td>\n",
       "      <td>0.0</td>\n",
       "      <td>40.0</td>\n",
       "      <td>Cuba</td>\n",
       "      <td>&lt;=50K</td>\n",
       "    </tr>\n",
       "    <tr>\n",
       "      <th>...</th>\n",
       "      <td>...</td>\n",
       "      <td>...</td>\n",
       "      <td>...</td>\n",
       "      <td>...</td>\n",
       "      <td>...</td>\n",
       "      <td>...</td>\n",
       "      <td>...</td>\n",
       "      <td>...</td>\n",
       "      <td>...</td>\n",
       "      <td>...</td>\n",
       "      <td>...</td>\n",
       "      <td>...</td>\n",
       "      <td>...</td>\n",
       "      <td>...</td>\n",
       "      <td>...</td>\n",
       "    </tr>\n",
       "    <tr>\n",
       "      <th>32556</th>\n",
       "      <td>27</td>\n",
       "      <td>Private</td>\n",
       "      <td>257302.0</td>\n",
       "      <td>Assoc-acdm</td>\n",
       "      <td>12</td>\n",
       "      <td>Married-civ-spouse</td>\n",
       "      <td>Tech-support</td>\n",
       "      <td>Wife</td>\n",
       "      <td>White</td>\n",
       "      <td>Female</td>\n",
       "      <td>0.0</td>\n",
       "      <td>0.0</td>\n",
       "      <td>38.0</td>\n",
       "      <td>United-States</td>\n",
       "      <td>&lt;=50K</td>\n",
       "    </tr>\n",
       "    <tr>\n",
       "      <th>32557</th>\n",
       "      <td>40</td>\n",
       "      <td>Private</td>\n",
       "      <td>154374.0</td>\n",
       "      <td>HS-grad</td>\n",
       "      <td>9</td>\n",
       "      <td>Married-civ-spouse</td>\n",
       "      <td>Machine-op-inspct</td>\n",
       "      <td>Husband</td>\n",
       "      <td>White</td>\n",
       "      <td>Male</td>\n",
       "      <td>0.0</td>\n",
       "      <td>0.0</td>\n",
       "      <td>40.0</td>\n",
       "      <td>United-States</td>\n",
       "      <td>&gt;50K</td>\n",
       "    </tr>\n",
       "    <tr>\n",
       "      <th>32558</th>\n",
       "      <td>58</td>\n",
       "      <td>Private</td>\n",
       "      <td>151910.0</td>\n",
       "      <td>HS-grad</td>\n",
       "      <td>9</td>\n",
       "      <td>Widowed</td>\n",
       "      <td>Adm-clerical</td>\n",
       "      <td>Unmarried</td>\n",
       "      <td>White</td>\n",
       "      <td>Female</td>\n",
       "      <td>0.0</td>\n",
       "      <td>0.0</td>\n",
       "      <td>40.0</td>\n",
       "      <td>United-States</td>\n",
       "      <td>&lt;=50K</td>\n",
       "    </tr>\n",
       "    <tr>\n",
       "      <th>32559</th>\n",
       "      <td>22</td>\n",
       "      <td>Private</td>\n",
       "      <td>201490.0</td>\n",
       "      <td>HS-grad</td>\n",
       "      <td>9</td>\n",
       "      <td>Never-married</td>\n",
       "      <td>Adm-clerical</td>\n",
       "      <td>Own-child</td>\n",
       "      <td>White</td>\n",
       "      <td>Male</td>\n",
       "      <td>0.0</td>\n",
       "      <td>0.0</td>\n",
       "      <td>20.0</td>\n",
       "      <td>United-States</td>\n",
       "      <td>&lt;=50K</td>\n",
       "    </tr>\n",
       "    <tr>\n",
       "      <th>32560</th>\n",
       "      <td>52</td>\n",
       "      <td>Self-emp-inc</td>\n",
       "      <td>287927.0</td>\n",
       "      <td>HS-grad</td>\n",
       "      <td>9</td>\n",
       "      <td>Married-civ-spouse</td>\n",
       "      <td>Exec-managerial</td>\n",
       "      <td>Wife</td>\n",
       "      <td>White</td>\n",
       "      <td>Female</td>\n",
       "      <td>15024.0</td>\n",
       "      <td>0.0</td>\n",
       "      <td>40.0</td>\n",
       "      <td>United-States</td>\n",
       "      <td>&gt;50K</td>\n",
       "    </tr>\n",
       "  </tbody>\n",
       "</table>\n",
       "<p>32561 rows × 15 columns</p>\n",
       "</div>"
      ],
      "text/plain": [
       "       age         workclass    fnlwgt   education  educational-num  \\\n",
       "0       39         State-gov   77516.0   Bachelors               13   \n",
       "1       50  Self-emp-not-inc   83311.0   Bachelors               13   \n",
       "2       38           Private  215646.0     HS-grad                9   \n",
       "3       53           Private  234721.0        11th                7   \n",
       "4       28           Private  338409.0   Bachelors               13   \n",
       "...    ...               ...       ...         ...              ...   \n",
       "32556   27           Private  257302.0  Assoc-acdm               12   \n",
       "32557   40           Private  154374.0     HS-grad                9   \n",
       "32558   58           Private  151910.0     HS-grad                9   \n",
       "32559   22           Private  201490.0     HS-grad                9   \n",
       "32560   52      Self-emp-inc  287927.0     HS-grad                9   \n",
       "\n",
       "           marital-status         occupation   relationship   race  gender  \\\n",
       "0           Never-married       Adm-clerical  Not-in-family  White    Male   \n",
       "1      Married-civ-spouse    Exec-managerial        Husband  White    Male   \n",
       "2                Divorced  Handlers-cleaners  Not-in-family  White    Male   \n",
       "3      Married-civ-spouse  Handlers-cleaners        Husband  Black    Male   \n",
       "4      Married-civ-spouse     Prof-specialty           Wife  Black  Female   \n",
       "...                   ...                ...            ...    ...     ...   \n",
       "32556  Married-civ-spouse       Tech-support           Wife  White  Female   \n",
       "32557  Married-civ-spouse  Machine-op-inspct        Husband  White    Male   \n",
       "32558             Widowed       Adm-clerical      Unmarried  White  Female   \n",
       "32559       Never-married       Adm-clerical      Own-child  White    Male   \n",
       "32560  Married-civ-spouse    Exec-managerial           Wife  White  Female   \n",
       "\n",
       "       capital-gain  capital-loss  hours-per-week native-country income  \n",
       "0            2174.0           0.0            40.0  United-States  <=50K  \n",
       "1               0.0           0.0            13.0  United-States  <=50K  \n",
       "2               0.0           0.0            40.0  United-States  <=50K  \n",
       "3               0.0           0.0            40.0  United-States  <=50K  \n",
       "4               0.0           0.0            40.0           Cuba  <=50K  \n",
       "...             ...           ...             ...            ...    ...  \n",
       "32556           0.0           0.0            38.0  United-States  <=50K  \n",
       "32557           0.0           0.0            40.0  United-States   >50K  \n",
       "32558           0.0           0.0            40.0  United-States  <=50K  \n",
       "32559           0.0           0.0            20.0  United-States  <=50K  \n",
       "32560       15024.0           0.0            40.0  United-States   >50K  \n",
       "\n",
       "[32561 rows x 15 columns]"
      ]
     },
     "execution_count": 6,
     "metadata": {},
     "output_type": "execute_result"
    }
   ],
   "source": [
    "adult_data"
   ]
  },
  {
   "cell_type": "code",
   "execution_count": 10,
   "metadata": {},
   "outputs": [],
   "source": [
    "model = Sequential()\n",
    "model.add(InputLayer(shape=(1,14)))\n",
    "\n",
    "model.add(Dense(150, activation='relu'))  \n",
    "\n",
    "# Hidden layers\n",
    "model.add(Dense(64, activation='relu'))  \n",
    "model.add(Dense(16, activation='relu'))  \n",
    "model.add(Flatten()) \n",
    "model.add(Dense(1, activation='sigmoid'))  \n",
    "\n",
    "# Compile the model\n",
    "model.compile(optimizer='adam',\n",
    "              loss='binary_crossentropy',  \n",
    "              metrics=['accuracy'])"
   ]
  },
  {
   "cell_type": "code",
   "execution_count": 177,
   "metadata": {},
   "outputs": [
    {
     "data": {
      "text/html": [
       "<pre style=\"white-space:pre;overflow-x:auto;line-height:normal;font-family:Menlo,'DejaVu Sans Mono',consolas,'Courier New',monospace\"><span style=\"font-weight: bold\">Model: \"sequential_4\"</span>\n",
       "</pre>\n"
      ],
      "text/plain": [
       "\u001b[1mModel: \"sequential_4\"\u001b[0m\n"
      ]
     },
     "metadata": {},
     "output_type": "display_data"
    },
    {
     "data": {
      "text/html": [
       "<pre style=\"white-space:pre;overflow-x:auto;line-height:normal;font-family:Menlo,'DejaVu Sans Mono',consolas,'Courier New',monospace\">┏━━━━━━━━━━━━━━━━━━━━━━━━━━━━━━━━━┳━━━━━━━━━━━━━━━━━━━━━━━━┳━━━━━━━━━━━━━━━┓\n",
       "┃<span style=\"font-weight: bold\"> Layer (type)                    </span>┃<span style=\"font-weight: bold\"> Output Shape           </span>┃<span style=\"font-weight: bold\">       Param # </span>┃\n",
       "┡━━━━━━━━━━━━━━━━━━━━━━━━━━━━━━━━━╇━━━━━━━━━━━━━━━━━━━━━━━━╇━━━━━━━━━━━━━━━┩\n",
       "│ dense_16 (<span style=\"color: #0087ff; text-decoration-color: #0087ff\">Dense</span>)                │ (<span style=\"color: #00d7ff; text-decoration-color: #00d7ff\">None</span>, <span style=\"color: #00af00; text-decoration-color: #00af00\">1</span>, <span style=\"color: #00af00; text-decoration-color: #00af00\">100</span>)         │         <span style=\"color: #00af00; text-decoration-color: #00af00\">1,500</span> │\n",
       "├─────────────────────────────────┼────────────────────────┼───────────────┤\n",
       "│ dense_17 (<span style=\"color: #0087ff; text-decoration-color: #0087ff\">Dense</span>)                │ (<span style=\"color: #00d7ff; text-decoration-color: #00d7ff\">None</span>, <span style=\"color: #00af00; text-decoration-color: #00af00\">1</span>, <span style=\"color: #00af00; text-decoration-color: #00af00\">64</span>)          │         <span style=\"color: #00af00; text-decoration-color: #00af00\">6,464</span> │\n",
       "├─────────────────────────────────┼────────────────────────┼───────────────┤\n",
       "│ dense_18 (<span style=\"color: #0087ff; text-decoration-color: #0087ff\">Dense</span>)                │ (<span style=\"color: #00d7ff; text-decoration-color: #00d7ff\">None</span>, <span style=\"color: #00af00; text-decoration-color: #00af00\">1</span>, <span style=\"color: #00af00; text-decoration-color: #00af00\">16</span>)          │         <span style=\"color: #00af00; text-decoration-color: #00af00\">1,040</span> │\n",
       "├─────────────────────────────────┼────────────────────────┼───────────────┤\n",
       "│ flatten_4 (<span style=\"color: #0087ff; text-decoration-color: #0087ff\">Flatten</span>)             │ (<span style=\"color: #00d7ff; text-decoration-color: #00d7ff\">None</span>, <span style=\"color: #00af00; text-decoration-color: #00af00\">16</span>)             │             <span style=\"color: #00af00; text-decoration-color: #00af00\">0</span> │\n",
       "├─────────────────────────────────┼────────────────────────┼───────────────┤\n",
       "│ dense_19 (<span style=\"color: #0087ff; text-decoration-color: #0087ff\">Dense</span>)                │ (<span style=\"color: #00d7ff; text-decoration-color: #00d7ff\">None</span>, <span style=\"color: #00af00; text-decoration-color: #00af00\">1</span>)              │            <span style=\"color: #00af00; text-decoration-color: #00af00\">17</span> │\n",
       "└─────────────────────────────────┴────────────────────────┴───────────────┘\n",
       "</pre>\n"
      ],
      "text/plain": [
       "┏━━━━━━━━━━━━━━━━━━━━━━━━━━━━━━━━━┳━━━━━━━━━━━━━━━━━━━━━━━━┳━━━━━━━━━━━━━━━┓\n",
       "┃\u001b[1m \u001b[0m\u001b[1mLayer (type)                   \u001b[0m\u001b[1m \u001b[0m┃\u001b[1m \u001b[0m\u001b[1mOutput Shape          \u001b[0m\u001b[1m \u001b[0m┃\u001b[1m \u001b[0m\u001b[1m      Param #\u001b[0m\u001b[1m \u001b[0m┃\n",
       "┡━━━━━━━━━━━━━━━━━━━━━━━━━━━━━━━━━╇━━━━━━━━━━━━━━━━━━━━━━━━╇━━━━━━━━━━━━━━━┩\n",
       "│ dense_16 (\u001b[38;5;33mDense\u001b[0m)                │ (\u001b[38;5;45mNone\u001b[0m, \u001b[38;5;34m1\u001b[0m, \u001b[38;5;34m100\u001b[0m)         │         \u001b[38;5;34m1,500\u001b[0m │\n",
       "├─────────────────────────────────┼────────────────────────┼───────────────┤\n",
       "│ dense_17 (\u001b[38;5;33mDense\u001b[0m)                │ (\u001b[38;5;45mNone\u001b[0m, \u001b[38;5;34m1\u001b[0m, \u001b[38;5;34m64\u001b[0m)          │         \u001b[38;5;34m6,464\u001b[0m │\n",
       "├─────────────────────────────────┼────────────────────────┼───────────────┤\n",
       "│ dense_18 (\u001b[38;5;33mDense\u001b[0m)                │ (\u001b[38;5;45mNone\u001b[0m, \u001b[38;5;34m1\u001b[0m, \u001b[38;5;34m16\u001b[0m)          │         \u001b[38;5;34m1,040\u001b[0m │\n",
       "├─────────────────────────────────┼────────────────────────┼───────────────┤\n",
       "│ flatten_4 (\u001b[38;5;33mFlatten\u001b[0m)             │ (\u001b[38;5;45mNone\u001b[0m, \u001b[38;5;34m16\u001b[0m)             │             \u001b[38;5;34m0\u001b[0m │\n",
       "├─────────────────────────────────┼────────────────────────┼───────────────┤\n",
       "│ dense_19 (\u001b[38;5;33mDense\u001b[0m)                │ (\u001b[38;5;45mNone\u001b[0m, \u001b[38;5;34m1\u001b[0m)              │            \u001b[38;5;34m17\u001b[0m │\n",
       "└─────────────────────────────────┴────────────────────────┴───────────────┘\n"
      ]
     },
     "metadata": {},
     "output_type": "display_data"
    },
    {
     "data": {
      "text/html": [
       "<pre style=\"white-space:pre;overflow-x:auto;line-height:normal;font-family:Menlo,'DejaVu Sans Mono',consolas,'Courier New',monospace\"><span style=\"font-weight: bold\"> Total params: </span><span style=\"color: #00af00; text-decoration-color: #00af00\">9,021</span> (35.24 KB)\n",
       "</pre>\n"
      ],
      "text/plain": [
       "\u001b[1m Total params: \u001b[0m\u001b[38;5;34m9,021\u001b[0m (35.24 KB)\n"
      ]
     },
     "metadata": {},
     "output_type": "display_data"
    },
    {
     "data": {
      "text/html": [
       "<pre style=\"white-space:pre;overflow-x:auto;line-height:normal;font-family:Menlo,'DejaVu Sans Mono',consolas,'Courier New',monospace\"><span style=\"font-weight: bold\"> Trainable params: </span><span style=\"color: #00af00; text-decoration-color: #00af00\">9,021</span> (35.24 KB)\n",
       "</pre>\n"
      ],
      "text/plain": [
       "\u001b[1m Trainable params: \u001b[0m\u001b[38;5;34m9,021\u001b[0m (35.24 KB)\n"
      ]
     },
     "metadata": {},
     "output_type": "display_data"
    },
    {
     "data": {
      "text/html": [
       "<pre style=\"white-space:pre;overflow-x:auto;line-height:normal;font-family:Menlo,'DejaVu Sans Mono',consolas,'Courier New',monospace\"><span style=\"font-weight: bold\"> Non-trainable params: </span><span style=\"color: #00af00; text-decoration-color: #00af00\">0</span> (0.00 B)\n",
       "</pre>\n"
      ],
      "text/plain": [
       "\u001b[1m Non-trainable params: \u001b[0m\u001b[38;5;34m0\u001b[0m (0.00 B)\n"
      ]
     },
     "metadata": {},
     "output_type": "display_data"
    }
   ],
   "source": [
    "model.summary()"
   ]
  },
  {
   "cell_type": "code",
   "execution_count": 11,
   "metadata": {},
   "outputs": [],
   "source": [
    "Gm=Generate_models.Generate_model(data=adult_data,input_features=input_features,output=output,problem=\"classification\",categorical_features=['workclass', 'education', 'marital-status', 'occupation',\n",
    "                    'relationship', 'race', 'gender', 'native-country','income'],test_size=0.2,n_steps_in=1,n_steps_out=1,dType=\"notsequence\")"
   ]
  },
  {
   "cell_type": "code",
   "execution_count": 12,
   "metadata": {},
   "outputs": [
    {
     "name": "stdout",
     "output_type": "stream",
     "text": [
      "Epoch 1/30\n",
      "\u001b[1m754/754\u001b[0m \u001b[32m━━━━━━━━━━━━━━━━━━━━\u001b[0m\u001b[37m\u001b[0m \u001b[1m2s\u001b[0m 1ms/step - accuracy: 0.7868 - loss: 0.4544 - val_accuracy: 0.8385 - val_loss: 0.3580\n",
      "Epoch 2/30\n",
      "\u001b[1m754/754\u001b[0m \u001b[32m━━━━━━━━━━━━━━━━━━━━\u001b[0m\u001b[37m\u001b[0m \u001b[1m1s\u001b[0m 1ms/step - accuracy: 0.8327 - loss: 0.3527 - val_accuracy: 0.8321 - val_loss: 0.3434\n",
      "Epoch 3/30\n",
      "\u001b[1m754/754\u001b[0m \u001b[32m━━━━━━━━━━━━━━━━━━━━\u001b[0m\u001b[37m\u001b[0m \u001b[1m1s\u001b[0m 1ms/step - accuracy: 0.8397 - loss: 0.3415 - val_accuracy: 0.8450 - val_loss: 0.3325\n",
      "Epoch 4/30\n",
      "\u001b[1m754/754\u001b[0m \u001b[32m━━━━━━━━━━━━━━━━━━━━\u001b[0m\u001b[37m\u001b[0m \u001b[1m1s\u001b[0m 1ms/step - accuracy: 0.8350 - loss: 0.3406 - val_accuracy: 0.8455 - val_loss: 0.3331\n",
      "Epoch 5/30\n",
      "\u001b[1m754/754\u001b[0m \u001b[32m━━━━━━━━━━━━━━━━━━━━\u001b[0m\u001b[37m\u001b[0m \u001b[1m1s\u001b[0m 1ms/step - accuracy: 0.8380 - loss: 0.3370 - val_accuracy: 0.8380 - val_loss: 0.3349\n",
      "Epoch 6/30\n",
      "\u001b[1m754/754\u001b[0m \u001b[32m━━━━━━━━━━━━━━━━━━━━\u001b[0m\u001b[37m\u001b[0m \u001b[1m1s\u001b[0m 2ms/step - accuracy: 0.8378 - loss: 0.3389 - val_accuracy: 0.8470 - val_loss: 0.3306\n",
      "Epoch 7/30\n",
      "\u001b[1m754/754\u001b[0m \u001b[32m━━━━━━━━━━━━━━━━━━━━\u001b[0m\u001b[37m\u001b[0m \u001b[1m1s\u001b[0m 1ms/step - accuracy: 0.8418 - loss: 0.3339 - val_accuracy: 0.8473 - val_loss: 0.3290\n",
      "Epoch 8/30\n",
      "\u001b[1m754/754\u001b[0m \u001b[32m━━━━━━━━━━━━━━━━━━━━\u001b[0m\u001b[37m\u001b[0m \u001b[1m1s\u001b[0m 1ms/step - accuracy: 0.8405 - loss: 0.3294 - val_accuracy: 0.8465 - val_loss: 0.3281\n",
      "Epoch 9/30\n",
      "\u001b[1m754/754\u001b[0m \u001b[32m━━━━━━━━━━━━━━━━━━━━\u001b[0m\u001b[37m\u001b[0m \u001b[1m1s\u001b[0m 1ms/step - accuracy: 0.8447 - loss: 0.3286 - val_accuracy: 0.8480 - val_loss: 0.3312\n",
      "Epoch 10/30\n",
      "\u001b[1m754/754\u001b[0m \u001b[32m━━━━━━━━━━━━━━━━━━━━\u001b[0m\u001b[37m\u001b[0m \u001b[1m1s\u001b[0m 1ms/step - accuracy: 0.8457 - loss: 0.3252 - val_accuracy: 0.8450 - val_loss: 0.3282\n",
      "Epoch 11/30\n",
      "\u001b[1m754/754\u001b[0m \u001b[32m━━━━━━━━━━━━━━━━━━━━\u001b[0m\u001b[37m\u001b[0m \u001b[1m1s\u001b[0m 1ms/step - accuracy: 0.8456 - loss: 0.3286 - val_accuracy: 0.8485 - val_loss: 0.3294\n",
      "Epoch 12/30\n",
      "\u001b[1m754/754\u001b[0m \u001b[32m━━━━━━━━━━━━━━━━━━━━\u001b[0m\u001b[37m\u001b[0m \u001b[1m1s\u001b[0m 1ms/step - accuracy: 0.8453 - loss: 0.3314 - val_accuracy: 0.8485 - val_loss: 0.3297\n",
      "Epoch 13/30\n",
      "\u001b[1m754/754\u001b[0m \u001b[32m━━━━━━━━━━━━━━━━━━━━\u001b[0m\u001b[37m\u001b[0m \u001b[1m1s\u001b[0m 1ms/step - accuracy: 0.8452 - loss: 0.3267 - val_accuracy: 0.8500 - val_loss: 0.3274\n",
      "Epoch 14/30\n",
      "\u001b[1m754/754\u001b[0m \u001b[32m━━━━━━━━━━━━━━━━━━━━\u001b[0m\u001b[37m\u001b[0m \u001b[1m1s\u001b[0m 1ms/step - accuracy: 0.8440 - loss: 0.3306 - val_accuracy: 0.8350 - val_loss: 0.3365\n",
      "Epoch 15/30\n",
      "\u001b[1m754/754\u001b[0m \u001b[32m━━━━━━━━━━━━━━━━━━━━\u001b[0m\u001b[37m\u001b[0m \u001b[1m1s\u001b[0m 1ms/step - accuracy: 0.8471 - loss: 0.3241 - val_accuracy: 0.8480 - val_loss: 0.3327\n",
      "Epoch 16/30\n",
      "\u001b[1m754/754\u001b[0m \u001b[32m━━━━━━━━━━━━━━━━━━━━\u001b[0m\u001b[37m\u001b[0m \u001b[1m1s\u001b[0m 1ms/step - accuracy: 0.8482 - loss: 0.3238 - val_accuracy: 0.8467 - val_loss: 0.3260\n",
      "Epoch 17/30\n",
      "\u001b[1m754/754\u001b[0m \u001b[32m━━━━━━━━━━━━━━━━━━━━\u001b[0m\u001b[37m\u001b[0m \u001b[1m1s\u001b[0m 1ms/step - accuracy: 0.8464 - loss: 0.3212 - val_accuracy: 0.8480 - val_loss: 0.3256\n",
      "Epoch 18/30\n",
      "\u001b[1m754/754\u001b[0m \u001b[32m━━━━━━━━━━━━━━━━━━━━\u001b[0m\u001b[37m\u001b[0m \u001b[1m1s\u001b[0m 1ms/step - accuracy: 0.8471 - loss: 0.3221 - val_accuracy: 0.8481 - val_loss: 0.3244\n",
      "Epoch 19/30\n",
      "\u001b[1m754/754\u001b[0m \u001b[32m━━━━━━━━━━━━━━━━━━━━\u001b[0m\u001b[37m\u001b[0m \u001b[1m1s\u001b[0m 1ms/step - accuracy: 0.8437 - loss: 0.3252 - val_accuracy: 0.8530 - val_loss: 0.3217\n",
      "Epoch 20/30\n",
      "\u001b[1m754/754\u001b[0m \u001b[32m━━━━━━━━━━━━━━━━━━━━\u001b[0m\u001b[37m\u001b[0m \u001b[1m1s\u001b[0m 1ms/step - accuracy: 0.8507 - loss: 0.3168 - val_accuracy: 0.8511 - val_loss: 0.3215\n",
      "Epoch 21/30\n",
      "\u001b[1m754/754\u001b[0m \u001b[32m━━━━━━━━━━━━━━━━━━━━\u001b[0m\u001b[37m\u001b[0m \u001b[1m1s\u001b[0m 1ms/step - accuracy: 0.8524 - loss: 0.3181 - val_accuracy: 0.8468 - val_loss: 0.3248\n",
      "Epoch 22/30\n",
      "\u001b[1m754/754\u001b[0m \u001b[32m━━━━━━━━━━━━━━━━━━━━\u001b[0m\u001b[37m\u001b[0m \u001b[1m1s\u001b[0m 1ms/step - accuracy: 0.8518 - loss: 0.3180 - val_accuracy: 0.8488 - val_loss: 0.3253\n",
      "Epoch 23/30\n",
      "\u001b[1m754/754\u001b[0m \u001b[32m━━━━━━━━━━━━━━━━━━━━\u001b[0m\u001b[37m\u001b[0m \u001b[1m1s\u001b[0m 1ms/step - accuracy: 0.8456 - loss: 0.3219 - val_accuracy: 0.8462 - val_loss: 0.3305\n",
      "Epoch 24/30\n",
      "\u001b[1m754/754\u001b[0m \u001b[32m━━━━━━━━━━━━━━━━━━━━\u001b[0m\u001b[37m\u001b[0m \u001b[1m1s\u001b[0m 1ms/step - accuracy: 0.8520 - loss: 0.3185 - val_accuracy: 0.8533 - val_loss: 0.3251\n",
      "Epoch 25/30\n",
      "\u001b[1m754/754\u001b[0m \u001b[32m━━━━━━━━━━━━━━━━━━━━\u001b[0m\u001b[37m\u001b[0m \u001b[1m1s\u001b[0m 1ms/step - accuracy: 0.8508 - loss: 0.3144 - val_accuracy: 0.8515 - val_loss: 0.3259\n",
      "Epoch 26/30\n",
      "\u001b[1m754/754\u001b[0m \u001b[32m━━━━━━━━━━━━━━━━━━━━\u001b[0m\u001b[37m\u001b[0m \u001b[1m1s\u001b[0m 1ms/step - accuracy: 0.8536 - loss: 0.3123 - val_accuracy: 0.8500 - val_loss: 0.3257\n",
      "Epoch 27/30\n",
      "\u001b[1m754/754\u001b[0m \u001b[32m━━━━━━━━━━━━━━━━━━━━\u001b[0m\u001b[37m\u001b[0m \u001b[1m1s\u001b[0m 1ms/step - accuracy: 0.8581 - loss: 0.3088 - val_accuracy: 0.8510 - val_loss: 0.3247\n",
      "Epoch 28/30\n",
      "\u001b[1m754/754\u001b[0m \u001b[32m━━━━━━━━━━━━━━━━━━━━\u001b[0m\u001b[37m\u001b[0m \u001b[1m1s\u001b[0m 1ms/step - accuracy: 0.8510 - loss: 0.3180 - val_accuracy: 0.8510 - val_loss: 0.3258\n",
      "Epoch 29/30\n",
      "\u001b[1m754/754\u001b[0m \u001b[32m━━━━━━━━━━━━━━━━━━━━\u001b[0m\u001b[37m\u001b[0m \u001b[1m1s\u001b[0m 1ms/step - accuracy: 0.8567 - loss: 0.3069 - val_accuracy: 0.8551 - val_loss: 0.3199\n",
      "Epoch 30/30\n",
      "\u001b[1m754/754\u001b[0m \u001b[32m━━━━━━━━━━━━━━━━━━━━\u001b[0m\u001b[37m\u001b[0m \u001b[1m1s\u001b[0m 1ms/step - accuracy: 0.8499 - loss: 0.3146 - val_accuracy: 0.8500 - val_loss: 0.3237\n"
     ]
    }
   ],
   "source": [
    "model,xtrain,ytrain,xtest,ytest,encoder,norm=Gm.build_model(model=model,epochs=30)"
   ]
  },
  {
   "cell_type": "code",
   "execution_count": 34,
   "metadata": {},
   "outputs": [],
   "source": [
    "model.save(\"./Models/adult.keras\")"
   ]
  },
  {
   "cell_type": "code",
   "execution_count": 13,
   "metadata": {},
   "outputs": [],
   "source": [
    "import Cf_explanation as cfe"
   ]
  },
  {
   "cell_type": "code",
   "execution_count": 14,
   "metadata": {},
   "outputs": [
    {
     "data": {
      "text/plain": [
       "(0.16761024, 0.5687307)"
      ]
     },
     "execution_count": 14,
     "metadata": {},
     "output_type": "execute_result"
    }
   ],
   "source": [
    "query_instance1=xtest[0]\n",
    "pr1=np.array(model.predict(np.reshape(query_instance1,(1,1,14)), verbose=0)).flatten()[0]\n",
    "query_instance2=xtest[80]\n",
    "pr11=np.array(model.predict(np.reshape(query_instance2,(1,1,14)), verbose=0)).flatten()[0]\n",
    "pr1,pr11"
   ]
  },
  {
   "cell_type": "code",
   "execution_count": 15,
   "metadata": {},
   "outputs": [],
   "source": [
    "population=np.concatenate((xtrain[0:50],xtest[5:50]))"
   ]
  },
  {
   "cell_type": "code",
   "execution_count": 16,
   "metadata": {},
   "outputs": [
    {
     "name": "stderr",
     "output_type": "stream",
     "text": [
      "filtering...: 100%|██████████| 5/5 [00:00<00:00, 5000.36it/s]"
     ]
    },
    {
     "name": "stdout",
     "output_type": "stream",
     "text": [
      "Counterfactual explanations generated:\n",
      "([<Cf_explanation.Condidate object at 0x0000019047986AA0>, <Cf_explanation.Condidate object at 0x000001904DF15C00>, <Cf_explanation.Condidate object at 0x000001904DFB3400>, <Cf_explanation.Condidate object at 0x00000190479702E0>, <Cf_explanation.Condidate object at 0x0000019047967C40>], [0.10494043712614538, 0.10494043712614538, 0.10494043712614538, 0.10494043712614538, 0.09203109784123441, 0.09203109784123441, 0.09203109784123441, 0.09203109784123441, 0.09203109784123441, 0.09203109784123441, 0.09203109784123441, 0.09203109784123441, 0.09203109784123441, 0.09203109784123441, 0.07979678825306467, 0.07979678825306467, 0.07979678825306467, 0.07979678825306467, 0.07979678825306467, 0.07979678825306467, 0.07979678825306467, 0.07831368836887315, 0.07831368836887315, 0.07831368836887315, 0.07831368836887315, 0.07831368836887315, 0.07831368836887315, 0.07831368836887315, 0.07831368836887315, 0.07831368836887315, 0.07831368836887315, 0.07831368836887315, 0.07831368836887315, 0.07831368836887315, 0.07831368836887315, 0.07831368836887315, 0.07831368836887315, 0.07831368836887315, 0.07831368836887315, 0.07831368836887315, 0.07831368836887315, 0.07831368836887315, 0.07831368836887315, 0.07831368836887315, 0.07831368836887315, 0.06036224689336988, 0.06036224689336988, 0.06036224689336988, 0.06036224689336988, 0.06036224689336988, 0.06036224689336988, 0.06036224689336988, 0.06036224689336988, 0.06036224689336988, 0.06036224689336988, 0.06036224689336988, 0.06036224689336988, 0.06036224689336988, 0.06036224689336988, 0.06036224689336988, 0.06036224689336988, 0.06036224689336988, 0.06036224689336988, 0.06036224689336988, 0.06036224689336988, 0.06036224689336988, 0.06036224689336988, 0.06026142075410466, 0.06026142075410466, 0.06026142075410466, 0.06026142075410466, 0.06026142075410466, 0.06026142075410466, 0.06026142075410466, 0.06026142075410466, 0.06026142075410466, 0.06026142075410466, 0.06026142075410466, 0.06026142075410466, 0.05849692618153565, 0.05140172672952458, 0.05140172672952458, 0.05140172672952458, 0.05140172672952458, 0.05140172672952458, 0.05140172672952458, 0.05140172672952458, 0.05140172672952458, 0.05140172672952458, 0.04757863017442758, 0.04757863017442758, 0.04757863017442758, 0.04757863017442758, 0.04757863017442758, 0.04757863017442758, 0.04757863017442758, 0.04757863017442758, 0.04757863017442758, 0.04757863017442758])\n"
     ]
    },
    {
     "name": "stderr",
     "output_type": "stream",
     "text": [
      "\n"
     ]
    }
   ],
   "source": [
    "cf = cfe.Conterfactual(\n",
    "    model=model,\n",
    "    query_instance=query_instance1,\n",
    "    problem=\"classification\",   # You can set this to \"regression\" \n",
    "    total_CFs=5,               # Number of counterfactuals you want\n",
    "    number_of_features=14,\n",
    "    length=1,\n",
    "    permitted_features=[1,2,4,6,7,10,11,12],\n",
    "    correlated_feature=[],# Assuming no correlation for now\n",
    "    direction=\"greater\"       \n",
    ")\n",
    "\n",
    "# Generate counterfactual explanations\n",
    "best_population = cf.Explane(population,method=\"NSGA2\",max_itera=100)\n",
    "\n",
    "# Print the resulting counterfactuals\n",
    "print(\"Counterfactual explanations generated:\")\n",
    "print(best_population)"
   ]
  },
  {
   "cell_type": "code",
   "execution_count": 17,
   "metadata": {},
   "outputs": [
    {
     "data": {
      "text/plain": [
       "5"
      ]
     },
     "execution_count": 17,
     "metadata": {},
     "output_type": "execute_result"
    }
   ],
   "source": [
    "len(best_population[0])"
   ]
  },
  {
   "cell_type": "code",
   "execution_count": 18,
   "metadata": {},
   "outputs": [
    {
     "data": {
      "text/plain": [
       "Text(0.5, 0, 'iteration')"
      ]
     },
     "execution_count": 18,
     "metadata": {},
     "output_type": "execute_result"
    },
    {
     "data": {
      "image/png": "[encoded data removed]",
      "text/plain": [
       "<Figure size 640x480 with 1 Axes>"
      ]
     },
     "metadata": {},
     "output_type": "display_data"
    }
   ],
   "source": [
    "plt.plot(best_population[1][4:])\n",
    "plt.ylabel(\"fitness value\")\n",
    "plt.xlabel(\"iteration\")\n",
    " #fitness updates"
   ]
  },
  {
   "cell_type": "code",
   "execution_count": 19,
   "metadata": {},
   "outputs": [],
   "source": [
    "input_columns=['age', 'workclass', 'fnlwgt', 'education', 'educational-num', 'marital-status', 'occupation','relationship', 'race', 'gender', 'capital-gain', 'capital-loss', 'hours-per-week', 'native-country']\n",
    "categorical_columns=['workclass', 'education', 'marital-status', 'occupation','relationship', 'race', 'gender', 'native-country']\n",
    "\n",
    "    \n",
    "\n",
    "\n",
    "    \n"
   ]
  },
  {
   "cell_type": "code",
   "execution_count": 20,
   "metadata": {},
   "outputs": [],
   "source": [
    "p=cf.Visualization(best_population[0],input_columns=input_columns,categorical_columns=categorical_columns,encoder=encoder,norm=norm[0])"
   ]
  },
  {
   "cell_type": "code",
   "execution_count": 21,
   "metadata": {},
   "outputs": [
    {
     "data": {
      "text/html": [
       "<div>\n",
       "<style scoped>\n",
       "    .dataframe tbody tr th:only-of-type {\n",
       "        vertical-align: middle;\n",
       "    }\n",
       "\n",
       "    .dataframe tbody tr th {\n",
       "        vertical-align: top;\n",
       "    }\n",
       "\n",
       "    .dataframe thead th {\n",
       "        text-align: right;\n",
       "    }\n",
       "</style>\n",
       "<table border=\"1\" class=\"dataframe\">\n",
       "  <thead>\n",
       "    <tr style=\"text-align: right;\">\n",
       "      <th></th>\n",
       "      <th>age</th>\n",
       "      <th>workclass</th>\n",
       "      <th>fnlwgt</th>\n",
       "      <th>education</th>\n",
       "      <th>educational-num</th>\n",
       "      <th>marital-status</th>\n",
       "      <th>occupation</th>\n",
       "      <th>relationship</th>\n",
       "      <th>race</th>\n",
       "      <th>gender</th>\n",
       "      <th>capital-gain</th>\n",
       "      <th>capital-loss</th>\n",
       "      <th>hours-per-week</th>\n",
       "      <th>native-country</th>\n",
       "      <th>Output</th>\n",
       "    </tr>\n",
       "  </thead>\n",
       "  <tbody>\n",
       "    <tr>\n",
       "      <th>0</th>\n",
       "      <td>28</td>\n",
       "      <td>Local-gov</td>\n",
       "      <td>76714</td>\n",
       "      <td>Preschool</td>\n",
       "      <td>15</td>\n",
       "      <td>Married-spouse-absent</td>\n",
       "      <td>Priv-house-serv</td>\n",
       "      <td>Husband</td>\n",
       "      <td>Other</td>\n",
       "      <td>Female</td>\n",
       "      <td>0</td>\n",
       "      <td>0</td>\n",
       "      <td>55</td>\n",
       "      <td>Trinadad&amp;Tobago</td>\n",
       "      <td>0.167610</td>\n",
       "    </tr>\n",
       "    <tr>\n",
       "      <th>1</th>\n",
       "      <td>-</td>\n",
       "      <td>Federal-gov</td>\n",
       "      <td>59466</td>\n",
       "      <td>-</td>\n",
       "      <td>16</td>\n",
       "      <td>-</td>\n",
       "      <td>-</td>\n",
       "      <td>-</td>\n",
       "      <td>-</td>\n",
       "      <td>-</td>\n",
       "      <td>7688</td>\n",
       "      <td>-</td>\n",
       "      <td>60</td>\n",
       "      <td>-</td>\n",
       "      <td>0.959142</td>\n",
       "    </tr>\n",
       "    <tr>\n",
       "      <th>2</th>\n",
       "      <td>-</td>\n",
       "      <td>Federal-gov</td>\n",
       "      <td>13769</td>\n",
       "      <td>-</td>\n",
       "      <td>16</td>\n",
       "      <td>-</td>\n",
       "      <td>-</td>\n",
       "      <td>-</td>\n",
       "      <td>-</td>\n",
       "      <td>-</td>\n",
       "      <td>7688</td>\n",
       "      <td>-</td>\n",
       "      <td>60</td>\n",
       "      <td>-</td>\n",
       "      <td>0.958853</td>\n",
       "    </tr>\n",
       "    <tr>\n",
       "      <th>3</th>\n",
       "      <td>-</td>\n",
       "      <td>Federal-gov</td>\n",
       "      <td>242521</td>\n",
       "      <td>-</td>\n",
       "      <td>-</td>\n",
       "      <td>-</td>\n",
       "      <td>-</td>\n",
       "      <td>-</td>\n",
       "      <td>-</td>\n",
       "      <td>-</td>\n",
       "      <td>7688</td>\n",
       "      <td>-</td>\n",
       "      <td>60</td>\n",
       "      <td>-</td>\n",
       "      <td>0.982295</td>\n",
       "    </tr>\n",
       "    <tr>\n",
       "      <th>4</th>\n",
       "      <td>-</td>\n",
       "      <td>Federal-gov</td>\n",
       "      <td>242521</td>\n",
       "      <td>-</td>\n",
       "      <td>16</td>\n",
       "      <td>-</td>\n",
       "      <td>-</td>\n",
       "      <td>-</td>\n",
       "      <td>-</td>\n",
       "      <td>-</td>\n",
       "      <td>7688</td>\n",
       "      <td>-</td>\n",
       "      <td>60</td>\n",
       "      <td>-</td>\n",
       "      <td>0.979715</td>\n",
       "    </tr>\n",
       "  </tbody>\n",
       "</table>\n",
       "</div>"
      ],
      "text/plain": [
       "  age    workclass  fnlwgt  education educational-num         marital-status  \\\n",
       "0  28    Local-gov   76714  Preschool              15  Married-spouse-absent   \n",
       "1   -  Federal-gov   59466          -              16                      -   \n",
       "2   -  Federal-gov   13769          -              16                      -   \n",
       "3   -  Federal-gov  242521          -               -                      -   \n",
       "4   -  Federal-gov  242521          -              16                      -   \n",
       "\n",
       "        occupation relationship   race  gender capital-gain capital-loss  \\\n",
       "0  Priv-house-serv      Husband  Other  Female            0            0   \n",
       "1                -            -      -       -         7688            -   \n",
       "2                -            -      -       -         7688            -   \n",
       "3                -            -      -       -         7688            -   \n",
       "4                -            -      -       -         7688            -   \n",
       "\n",
       "  hours-per-week   native-country    Output  \n",
       "0             55  Trinadad&Tobago  0.167610  \n",
       "1             60                -  0.959142  \n",
       "2             60                -  0.958853  \n",
       "3             60                -  0.982295  \n",
       "4             60                -  0.979715  "
      ]
     },
     "execution_count": 21,
     "metadata": {},
     "output_type": "execute_result"
    }
   ],
   "source": [
    "p"
   ]
  },
  {
   "cell_type": "code",
   "execution_count": 22,
   "metadata": {},
   "outputs": [
    {
     "name": "stderr",
     "output_type": "stream",
     "text": [
      "filtering...: 100%|██████████| 15/15 [00:00<?, ?it/s]"
     ]
    },
    {
     "name": "stdout",
     "output_type": "stream",
     "text": [
      "Counterfactual explanations generated:\n",
      "([<Cf_explanation.Condidate object at 0x000001904DF04D30>, <Cf_explanation.Condidate object at 0x000001904DEEA5C0>, <Cf_explanation.Condidate object at 0x0000019047987DF0>, <Cf_explanation.Condidate object at 0x00000190479CC130>, <Cf_explanation.Condidate object at 0x0000019047986D10>, <Cf_explanation.Condidate object at 0x000001904799A2F0>, <Cf_explanation.Condidate object at 0x0000019047984E50>, <Cf_explanation.Condidate object at 0x000001904DFA05E0>, <Cf_explanation.Condidate object at 0x00000190479E79A0>, <Cf_explanation.Condidate object at 0x00000190479D96C0>, <Cf_explanation.Condidate object at 0x0000019047986A70>, <Cf_explanation.Condidate object at 0x000001904BF0DD50>, <Cf_explanation.Condidate object at 0x00000190479B9540>, <Cf_explanation.Condidate object at 0x000001904DFA0F10>, <Cf_explanation.Condidate object at 0x000001904DFA21A0>], [0.10494043712614538, 0.10494043712614538, 0.10494043712614538, 0.10494043712614538, 0.10304607592624505, 0.10304607592624505, 0.09496813101628865, 0.09496813101628865, 0.09496813101628865, 0.09496813101628865, 0.09496813101628865, 0.09496813101628865, 0.09496813101628865, 0.09496813101628865, 0.09496813101628865, 0.09496813101628865, 0.09496813101628865, 0.09496813101628865, 0.09496813101628865, 0.09496813101628865, 0.09496813101628865, 0.09496813101628865, 0.09496813101628865, 0.09496813101628865, 0.09496813101628865, 0.09496813101628865, 0.09496813101628865, 0.09496813101628865, 0.09496813101628865, 0.09496813101628865, 0.09496813101628865, 0.09496813101628865, 0.09496813101628865, 0.09496813101628865, 0.09496813101628865, 0.09496813101628865, 0.09496813101628865, 0.09496813101628865, 0.09496813101628865, 0.07281779837293156, 0.07281779837293156, 0.07281779837293156, 0.07281779837293156, 0.07281779837293156, 0.07281779837293156, 0.07281779837293156, 0.07281779837293156, 0.07281779837293156, 0.07281779837293156, 0.07281779837293156, 0.07281779837293156, 0.07281779837293156, 0.07281779837293156, 0.07281779837293156, 0.07281779837293156, 0.07281779837293156, 0.07281779837293156, 0.07281779837293156, 0.07281779837293156, 0.07281779837293156, 0.07281779837293156, 0.07281779837293156, 0.07281779837293156, 0.07281779837293156, 0.07281779837293156, 0.07281779837293156, 0.07281779837293156, 0.06488749530411288, 0.06488749530411288, 0.06488749530411288, 0.06488749530411288, 0.06488749530411288, 0.06488749530411288, 0.06488749530411288, 0.06488749530411288, 0.06488749530411288, 0.06488749530411288, 0.06488749530411288, 0.06488749530411288, 0.06488749530411288, 0.06488749530411288, 0.06488749530411288, 0.06488749530411288, 0.06488749530411288, 0.06433510730298088, 0.06433510730298088, 0.06433510730298088, 0.06433510730298088, 0.06433510730298088, 0.06433510730298088, 0.06433510730298088, 0.06433510730298088, 0.06433510730298088, 0.06433510730298088, 0.06433510730298088, 0.06433510730298088, 0.06433510730298088, 0.06433510730298088, 0.06433510730298088])\n"
     ]
    },
    {
     "name": "stderr",
     "output_type": "stream",
     "text": [
      "\n"
     ]
    }
   ],
   "source": [
    "cf = cfe.Conterfactual(\n",
    "    model=model,\n",
    "    query_instance=query_instance1,\n",
    "    problem=\"classification\",   # You can set this to \"regression\" \n",
    "    total_CFs=5,               # Number of counterfactuals you want\n",
    "    number_of_features=14,\n",
    "    length=1,\n",
    "    permitted_features=[], # do not change[age,education,marital-status,race,gender,native-country]\n",
    "    correlated_feature=[],# Assuming no correlation for now\n",
    "    direction=\"greater\"       \n",
    ")\n",
    "\n",
    "# Generate counterfactual explanations\n",
    "best_population = cf.Explane(population,method=\"GENO-TOPSIS\",max_itera=100)\n",
    "\n",
    "# Print the resulting counterfactuals\n",
    "print(\"Counterfactual explanations generated:\")\n",
    "print(best_population)"
   ]
  },
  {
   "cell_type": "code",
   "execution_count": 23,
   "metadata": {},
   "outputs": [],
   "source": [
    "p=cf.Visualization(best_population[0],input_columns=input_columns,categorical_columns=categorical_columns,encoder=encoder,norm=norm[0])"
   ]
  },
  {
   "cell_type": "code",
   "execution_count": 24,
   "metadata": {},
   "outputs": [
    {
     "data": {
      "text/html": [
       "<div>\n",
       "<style scoped>\n",
       "    .dataframe tbody tr th:only-of-type {\n",
       "        vertical-align: middle;\n",
       "    }\n",
       "\n",
       "    .dataframe tbody tr th {\n",
       "        vertical-align: top;\n",
       "    }\n",
       "\n",
       "    .dataframe thead th {\n",
       "        text-align: right;\n",
       "    }\n",
       "</style>\n",
       "<table border=\"1\" class=\"dataframe\">\n",
       "  <thead>\n",
       "    <tr style=\"text-align: right;\">\n",
       "      <th></th>\n",
       "      <th>age</th>\n",
       "      <th>workclass</th>\n",
       "      <th>fnlwgt</th>\n",
       "      <th>education</th>\n",
       "      <th>educational-num</th>\n",
       "      <th>marital-status</th>\n",
       "      <th>occupation</th>\n",
       "      <th>relationship</th>\n",
       "      <th>race</th>\n",
       "      <th>gender</th>\n",
       "      <th>capital-gain</th>\n",
       "      <th>capital-loss</th>\n",
       "      <th>hours-per-week</th>\n",
       "      <th>native-country</th>\n",
       "      <th>Output</th>\n",
       "    </tr>\n",
       "  </thead>\n",
       "  <tbody>\n",
       "    <tr>\n",
       "      <th>0</th>\n",
       "      <td>28</td>\n",
       "      <td>Local-gov</td>\n",
       "      <td>76714</td>\n",
       "      <td>Preschool</td>\n",
       "      <td>15</td>\n",
       "      <td>Married-spouse-absent</td>\n",
       "      <td>Priv-house-serv</td>\n",
       "      <td>Husband</td>\n",
       "      <td>Other</td>\n",
       "      <td>Female</td>\n",
       "      <td>0</td>\n",
       "      <td>0</td>\n",
       "      <td>55</td>\n",
       "      <td>Trinadad&amp;Tobago</td>\n",
       "      <td>0.167610</td>\n",
       "    </tr>\n",
       "    <tr>\n",
       "      <th>1</th>\n",
       "      <td>32</td>\n",
       "      <td>-</td>\n",
       "      <td>265088</td>\n",
       "      <td>-</td>\n",
       "      <td>13</td>\n",
       "      <td>-</td>\n",
       "      <td>-</td>\n",
       "      <td>-</td>\n",
       "      <td>-</td>\n",
       "      <td>-</td>\n",
       "      <td>7688</td>\n",
       "      <td>-</td>\n",
       "      <td>50</td>\n",
       "      <td>-</td>\n",
       "      <td>0.968327</td>\n",
       "    </tr>\n",
       "    <tr>\n",
       "      <th>2</th>\n",
       "      <td>32</td>\n",
       "      <td>-</td>\n",
       "      <td>191849</td>\n",
       "      <td>-</td>\n",
       "      <td>13</td>\n",
       "      <td>-</td>\n",
       "      <td>-</td>\n",
       "      <td>-</td>\n",
       "      <td>-</td>\n",
       "      <td>-</td>\n",
       "      <td>7688</td>\n",
       "      <td>-</td>\n",
       "      <td>50</td>\n",
       "      <td>-</td>\n",
       "      <td>0.963317</td>\n",
       "    </tr>\n",
       "    <tr>\n",
       "      <th>3</th>\n",
       "      <td>32</td>\n",
       "      <td>Federal-gov</td>\n",
       "      <td>191849</td>\n",
       "      <td>-</td>\n",
       "      <td>13</td>\n",
       "      <td>-</td>\n",
       "      <td>-</td>\n",
       "      <td>-</td>\n",
       "      <td>-</td>\n",
       "      <td>-</td>\n",
       "      <td>7688</td>\n",
       "      <td>-</td>\n",
       "      <td>50</td>\n",
       "      <td>-</td>\n",
       "      <td>0.963873</td>\n",
       "    </tr>\n",
       "  </tbody>\n",
       "</table>\n",
       "</div>"
      ],
      "text/plain": [
       "  age    workclass  fnlwgt  education educational-num         marital-status  \\\n",
       "0  28    Local-gov   76714  Preschool              15  Married-spouse-absent   \n",
       "1  32            -  265088          -              13                      -   \n",
       "2  32            -  191849          -              13                      -   \n",
       "3  32  Federal-gov  191849          -              13                      -   \n",
       "\n",
       "        occupation relationship   race  gender capital-gain capital-loss  \\\n",
       "0  Priv-house-serv      Husband  Other  Female            0            0   \n",
       "1                -            -      -       -         7688            -   \n",
       "2                -            -      -       -         7688            -   \n",
       "3                -            -      -       -         7688            -   \n",
       "\n",
       "  hours-per-week   native-country    Output  \n",
       "0             55  Trinadad&Tobago  0.167610  \n",
       "1             50                -  0.968327  \n",
       "2             50                -  0.963317  \n",
       "3             50                -  0.963873  "
      ]
     },
     "execution_count": 24,
     "metadata": {},
     "output_type": "execute_result"
    }
   ],
   "source": [
    "p"
   ]
  },
  {
   "cell_type": "code",
   "execution_count": 25,
   "metadata": {},
   "outputs": [
    {
     "name": "stderr",
     "output_type": "stream",
     "text": [
      "analysing...: 100%|██████████| 15/15 [00:00<?, ?it/s]\n"
     ]
    },
    {
     "data": {
      "image/png": "[encoded data removed]",
      "text/plain": [
       "<Figure size 640x480 with 2 Axes>"
      ]
     },
     "metadata": {},
     "output_type": "display_data"
    }
   ],
   "source": [
    "cf.Distribution(best_population[0])"
   ]
  },
  {
   "cell_type": "code",
   "execution_count": 57,
   "metadata": {},
   "outputs": [
    {
     "name": "stdout",
     "output_type": "stream",
     "text": [
      "Collecting dice-ml\n",
      "  Using cached dice_ml-0.11-py3-none-any.whl.metadata (20 kB)\n",
      "Requirement already satisfied: jsonschema in c:\\users\\sarbaoui01\\appdata\\local\\programs\\python\\python310\\lib\\site-packages (from dice-ml) (4.17.3)\n",
      "Requirement already satisfied: numpy in c:\\users\\sarbaoui01\\appdata\\local\\programs\\python\\python310\\lib\\site-packages (from dice-ml) (1.26.3)\n",
      "Collecting pandas<2.0.0 (from dice-ml)\n",
      "  Downloading pandas-1.5.3-cp310-cp310-win_amd64.whl.metadata (12 kB)\n",
      "Requirement already satisfied: scikit-learn in c:\\users\\sarbaoui01\\appdata\\local\\programs\\python\\python310\\lib\\site-packages (from dice-ml) (1.6.0)\n",
      "Requirement already satisfied: tqdm in c:\\users\\sarbaoui01\\appdata\\local\\programs\\python\\python310\\lib\\site-packages (from dice-ml) (4.67.1)\n",
      "Collecting raiutils>=0.4.0 (from dice-ml)\n",
      "  Using cached raiutils-0.4.2-py3-none-any.whl.metadata (1.4 kB)\n",
      "Requirement already satisfied: python-dateutil>=2.8.1 in c:\\users\\sarbaoui01\\appdata\\local\\programs\\python\\python310\\lib\\site-packages (from pandas<2.0.0->dice-ml) (2.8.2)\n",
      "Requirement already satisfied: pytz>=2020.1 in c:\\users\\sarbaoui01\\appdata\\local\\programs\\python\\python310\\lib\\site-packages (from pandas<2.0.0->dice-ml) (2024.1)\n",
      "Requirement already satisfied: requests in c:\\users\\sarbaoui01\\appdata\\local\\programs\\python\\python310\\lib\\site-packages (from raiutils>=0.4.0->dice-ml) (2.28.2)\n",
      "Requirement already satisfied: scipy in c:\\users\\sarbaoui01\\appdata\\local\\programs\\python\\python310\\lib\\site-packages (from raiutils>=0.4.0->dice-ml) (1.11.4)\n",
      "Requirement already satisfied: attrs>=17.4.0 in c:\\users\\sarbaoui01\\appdata\\local\\programs\\python\\python310\\lib\\site-packages (from jsonschema->dice-ml) (22.2.0)\n",
      "Requirement already satisfied: pyrsistent!=0.17.0,!=0.17.1,!=0.17.2,>=0.14.0 in c:\\users\\sarbaoui01\\appdata\\local\\programs\\python\\python310\\lib\\site-packages (from jsonschema->dice-ml) (0.19.3)\n",
      "Requirement already satisfied: joblib>=1.2.0 in c:\\users\\sarbaoui01\\appdata\\local\\programs\\python\\python310\\lib\\site-packages (from scikit-learn->dice-ml) (1.4.2)\n",
      "Requirement already satisfied: threadpoolctl>=3.1.0 in c:\\users\\sarbaoui01\\appdata\\local\\programs\\python\\python310\\lib\\site-packages (from scikit-learn->dice-ml) (3.5.0)\n",
      "Requirement already satisfied: colorama in c:\\users\\sarbaoui01\\appdata\\local\\programs\\python\\python310\\lib\\site-packages (from tqdm->dice-ml) (0.4.6)\n",
      "Requirement already satisfied: six>=1.5 in c:\\users\\sarbaoui01\\appdata\\local\\programs\\python\\python310\\lib\\site-packages (from python-dateutil>=2.8.1->pandas<2.0.0->dice-ml) (1.16.0)\n",
      "Requirement already satisfied: charset-normalizer<4,>=2 in c:\\users\\sarbaoui01\\appdata\\local\\programs\\python\\python310\\lib\\site-packages (from requests->raiutils>=0.4.0->dice-ml) (3.1.0)\n",
      "Requirement already satisfied: idna<4,>=2.5 in c:\\users\\sarbaoui01\\appdata\\local\\programs\\python\\python310\\lib\\site-packages (from requests->raiutils>=0.4.0->dice-ml) (3.4)\n",
      "Requirement already satisfied: urllib3<1.27,>=1.21.1 in c:\\users\\sarbaoui01\\appdata\\local\\programs\\python\\python310\\lib\\site-packages (from requests->raiutils>=0.4.0->dice-ml) (1.26.15)\n",
      "Requirement already satisfied: certifi>=2017.4.17 in c:\\users\\sarbaoui01\\appdata\\local\\programs\\python\\python310\\lib\\site-packages (from requests->raiutils>=0.4.0->dice-ml) (2022.12.7)\n",
      "Using cached dice_ml-0.11-py3-none-any.whl (2.5 MB)\n",
      "Downloading pandas-1.5.3-cp310-cp310-win_amd64.whl (10.4 MB)\n",
      "   ---------------------------------------- 0.0/10.4 MB ? eta -:--:--\n",
      "   ---------------- ----------------------- 4.2/10.4 MB 27.9 MB/s eta 0:00:01\n",
      "   ------------------------------------ --- 9.4/10.4 MB 24.5 MB/s eta 0:00:01\n",
      "   ---------------------------------------- 10.4/10.4 MB 21.5 MB/s eta 0:00:00\n",
      "Using cached raiutils-0.4.2-py3-none-any.whl (17 kB)\n",
      "Installing collected packages: pandas, raiutils, dice-ml\n",
      "  Attempting uninstall: pandas\n",
      "    Found existing installation: pandas 2.2.1\n",
      "    Uninstalling pandas-2.2.1:\n",
      "      Successfully uninstalled pandas-2.2.1\n",
      "Successfully installed dice-ml-0.11 pandas-1.5.3 raiutils-0.4.2\n",
      "Note: you may need to restart the kernel to use updated packages.\n"
     ]
    },
    {
     "name": "stderr",
     "output_type": "stream",
     "text": [
      "  WARNING: Failed to remove contents in a temporary directory 'C:\\Users\\sarbaoui01\\AppData\\Local\\Programs\\Python\\Python310\\Lib\\site-packages\\~andas.libs'.\n",
      "  You can safely remove it manually.\n",
      "  WARNING: Failed to remove contents in a temporary directory 'C:\\Users\\sarbaoui01\\AppData\\Local\\Programs\\Python\\Python310\\Lib\\site-packages\\~andas'.\n",
      "  You can safely remove it manually.\n",
      "\n",
      "[notice] A new release of pip is available: 24.3.1 -> 25.1\n",
      "[notice] To update, run: python.exe -m pip install --upgrade pip\n"
     ]
    }
   ],
   "source": [
    "pip install dice-ml"
   ]
  },
  {
   "cell_type": "code",
   "execution_count": 26,
   "metadata": {},
   "outputs": [],
   "source": [
    "# Sklearn imports\n",
    "from sklearn.compose import ColumnTransformer\n",
    "from sklearn.model_selection import train_test_split\n",
    "from sklearn.pipeline import Pipeline\n",
    "from sklearn.preprocessing import OneHotEncoder\n",
    "from sklearn.ensemble import RandomForestClassifier\n",
    "\n",
    "# DiCE imports\n",
    "import dice_ml\n",
    "from dice_ml.utils import helpers  # helper functions"
   ]
  },
  {
   "cell_type": "code",
   "execution_count": 27,
   "metadata": {},
   "outputs": [],
   "source": [
    "dataset = helpers.load_adult_income_dataset()"
   ]
  },
  {
   "cell_type": "code",
   "execution_count": 28,
   "metadata": {},
   "outputs": [
    {
     "data": {
      "text/html": [
       "<div>\n",
       "<style scoped>\n",
       "    .dataframe tbody tr th:only-of-type {\n",
       "        vertical-align: middle;\n",
       "    }\n",
       "\n",
       "    .dataframe tbody tr th {\n",
       "        vertical-align: top;\n",
       "    }\n",
       "\n",
       "    .dataframe thead th {\n",
       "        text-align: right;\n",
       "    }\n",
       "</style>\n",
       "<table border=\"1\" class=\"dataframe\">\n",
       "  <thead>\n",
       "    <tr style=\"text-align: right;\">\n",
       "      <th></th>\n",
       "      <th>age</th>\n",
       "      <th>workclass</th>\n",
       "      <th>education</th>\n",
       "      <th>marital_status</th>\n",
       "      <th>occupation</th>\n",
       "      <th>race</th>\n",
       "      <th>gender</th>\n",
       "      <th>hours_per_week</th>\n",
       "      <th>income</th>\n",
       "    </tr>\n",
       "  </thead>\n",
       "  <tbody>\n",
       "    <tr>\n",
       "      <th>0</th>\n",
       "      <td>28</td>\n",
       "      <td>Private</td>\n",
       "      <td>Bachelors</td>\n",
       "      <td>Single</td>\n",
       "      <td>White-Collar</td>\n",
       "      <td>White</td>\n",
       "      <td>Female</td>\n",
       "      <td>60</td>\n",
       "      <td>0</td>\n",
       "    </tr>\n",
       "    <tr>\n",
       "      <th>1</th>\n",
       "      <td>30</td>\n",
       "      <td>Self-Employed</td>\n",
       "      <td>Assoc</td>\n",
       "      <td>Married</td>\n",
       "      <td>Professional</td>\n",
       "      <td>White</td>\n",
       "      <td>Male</td>\n",
       "      <td>65</td>\n",
       "      <td>1</td>\n",
       "    </tr>\n",
       "    <tr>\n",
       "      <th>2</th>\n",
       "      <td>32</td>\n",
       "      <td>Private</td>\n",
       "      <td>Some-college</td>\n",
       "      <td>Married</td>\n",
       "      <td>White-Collar</td>\n",
       "      <td>White</td>\n",
       "      <td>Male</td>\n",
       "      <td>50</td>\n",
       "      <td>0</td>\n",
       "    </tr>\n",
       "    <tr>\n",
       "      <th>3</th>\n",
       "      <td>20</td>\n",
       "      <td>Private</td>\n",
       "      <td>Some-college</td>\n",
       "      <td>Single</td>\n",
       "      <td>Service</td>\n",
       "      <td>White</td>\n",
       "      <td>Female</td>\n",
       "      <td>35</td>\n",
       "      <td>0</td>\n",
       "    </tr>\n",
       "    <tr>\n",
       "      <th>4</th>\n",
       "      <td>41</td>\n",
       "      <td>Self-Employed</td>\n",
       "      <td>Some-college</td>\n",
       "      <td>Married</td>\n",
       "      <td>White-Collar</td>\n",
       "      <td>White</td>\n",
       "      <td>Male</td>\n",
       "      <td>50</td>\n",
       "      <td>0</td>\n",
       "    </tr>\n",
       "  </tbody>\n",
       "</table>\n",
       "</div>"
      ],
      "text/plain": [
       "   age      workclass     education marital_status    occupation   race  \\\n",
       "0   28        Private     Bachelors         Single  White-Collar  White   \n",
       "1   30  Self-Employed         Assoc        Married  Professional  White   \n",
       "2   32        Private  Some-college        Married  White-Collar  White   \n",
       "3   20        Private  Some-college         Single       Service  White   \n",
       "4   41  Self-Employed  Some-college        Married  White-Collar  White   \n",
       "\n",
       "   gender  hours_per_week  income  \n",
       "0  Female              60       0  \n",
       "1    Male              65       1  \n",
       "2    Male              50       0  \n",
       "3  Female              35       0  \n",
       "4    Male              50       0  "
      ]
     },
     "execution_count": 28,
     "metadata": {},
     "output_type": "execute_result"
    }
   ],
   "source": [
    "dataset.head()"
   ]
  },
  {
   "cell_type": "code",
   "execution_count": 99,
   "metadata": {},
   "outputs": [
    {
     "data": {
      "text/plain": [
       "{'age': 'age',\n",
       " 'workclass': 'type of industry (Government, Other/Unknown, Private, Self-Employed)',\n",
       " 'education': 'education level (Assoc, Bachelors, Doctorate, HS-grad, Masters, Prof-school, School, Some-college)',\n",
       " 'marital_status': 'marital status (Divorced, Married, Separated, Single, Widowed)',\n",
       " 'occupation': 'occupation (Blue-Collar, Other/Unknown, Professional, Sales, Service, White-Collar)',\n",
       " 'race': 'white or other race?',\n",
       " 'gender': 'male or female?',\n",
       " 'hours_per_week': 'total work hours per week',\n",
       " 'income': '0 (<=50K) vs 1 (>50K)'}"
      ]
     },
     "execution_count": 99,
     "metadata": {},
     "output_type": "execute_result"
    }
   ],
   "source": [
    "# description of transformed features\n",
    "adult_info = helpers.get_adult_data_info()\n",
    "adult_info"
   ]
  },
  {
   "cell_type": "code",
   "execution_count": 100,
   "metadata": {},
   "outputs": [],
   "source": [
    "target = dataset[\"income\"]\n",
    "train_dataset, test_dataset, y_train, y_test = train_test_split(dataset,\n",
    "                                                                target,\n",
    "                                                                test_size=0.2,\n",
    "                                                                random_state=0,\n",
    "                                                                stratify=target)\n",
    "x_train = train_dataset.drop('income', axis=1)\n",
    "x_test = test_dataset.drop('income', axis=1)"
   ]
  },
  {
   "cell_type": "code",
   "execution_count": 101,
   "metadata": {},
   "outputs": [],
   "source": [
    "# Step 1: dice_ml.Data\n",
    "d = dice_ml.Data(dataframe=train_dataset, continuous_features=['age', 'hours_per_week'], outcome_name='income')"
   ]
  },
  {
   "cell_type": "code",
   "execution_count": 102,
   "metadata": {},
   "outputs": [],
   "source": [
    "numerical = [\"age\", \"hours_per_week\"]\n",
    "categorical = x_train.columns.difference(numerical)\n",
    "\n",
    "categorical_transformer = Pipeline(steps=[\n",
    "    ('onehot', OneHotEncoder(handle_unknown='ignore'))])\n",
    "\n",
    "transformations = ColumnTransformer(\n",
    "    transformers=[\n",
    "        ('cat', categorical_transformer, categorical)])\n",
    "\n",
    "# Append classifier to preprocessing pipeline.\n",
    "# Now we have a full prediction pipeline.\n",
    "clf = Pipeline(steps=[('preprocessor', transformations),\n",
    "                      ('classifier', RandomForestClassifier())])\n",
    "model = clf.fit(x_train, y_train)"
   ]
  },
  {
   "cell_type": "code",
   "execution_count": 103,
   "metadata": {},
   "outputs": [],
   "source": [
    "# Using sklearn backend\n",
    "m = dice_ml.Model(model=model, backend=\"sklearn\")\n",
    "# Using method=random for generating CFs\n",
    "exp = dice_ml.Dice(d, m, method=\"random\")"
   ]
  },
  {
   "cell_type": "code",
   "execution_count": 104,
   "metadata": {},
   "outputs": [
    {
     "name": "stderr",
     "output_type": "stream",
     "text": [
      "100%|██████████| 1/1 [00:00<00:00, 10.87it/s]"
     ]
    },
    {
     "name": "stdout",
     "output_type": "stream",
     "text": [
      "Query instance (original outcome : 0)\n"
     ]
    },
    {
     "name": "stderr",
     "output_type": "stream",
     "text": [
      "\n"
     ]
    },
    {
     "data": {
      "text/html": [
       "<div>\n",
       "<style scoped>\n",
       "    .dataframe tbody tr th:only-of-type {\n",
       "        vertical-align: middle;\n",
       "    }\n",
       "\n",
       "    .dataframe tbody tr th {\n",
       "        vertical-align: top;\n",
       "    }\n",
       "\n",
       "    .dataframe thead th {\n",
       "        text-align: right;\n",
       "    }\n",
       "</style>\n",
       "<table border=\"1\" class=\"dataframe\">\n",
       "  <thead>\n",
       "    <tr style=\"text-align: right;\">\n",
       "      <th></th>\n",
       "      <th>age</th>\n",
       "      <th>workclass</th>\n",
       "      <th>education</th>\n",
       "      <th>marital_status</th>\n",
       "      <th>occupation</th>\n",
       "      <th>race</th>\n",
       "      <th>gender</th>\n",
       "      <th>hours_per_week</th>\n",
       "      <th>income</th>\n",
       "    </tr>\n",
       "  </thead>\n",
       "  <tbody>\n",
       "    <tr>\n",
       "      <th>0</th>\n",
       "      <td>29</td>\n",
       "      <td>Private</td>\n",
       "      <td>HS-grad</td>\n",
       "      <td>Married</td>\n",
       "      <td>Blue-Collar</td>\n",
       "      <td>White</td>\n",
       "      <td>Female</td>\n",
       "      <td>38</td>\n",
       "      <td>0</td>\n",
       "    </tr>\n",
       "  </tbody>\n",
       "</table>\n",
       "</div>"
      ],
      "text/plain": [
       "   age workclass education marital_status   occupation   race  gender  \\\n",
       "0   29   Private   HS-grad        Married  Blue-Collar  White  Female   \n",
       "\n",
       "   hours_per_week  income  \n",
       "0              38       0  "
      ]
     },
     "metadata": {},
     "output_type": "display_data"
    },
    {
     "name": "stdout",
     "output_type": "stream",
     "text": [
      "\n",
      "Diverse Counterfactual set (new outcome: 1)\n"
     ]
    },
    {
     "data": {
      "text/html": [
       "<div>\n",
       "<style scoped>\n",
       "    .dataframe tbody tr th:only-of-type {\n",
       "        vertical-align: middle;\n",
       "    }\n",
       "\n",
       "    .dataframe tbody tr th {\n",
       "        vertical-align: top;\n",
       "    }\n",
       "\n",
       "    .dataframe thead th {\n",
       "        text-align: right;\n",
       "    }\n",
       "</style>\n",
       "<table border=\"1\" class=\"dataframe\">\n",
       "  <thead>\n",
       "    <tr style=\"text-align: right;\">\n",
       "      <th></th>\n",
       "      <th>age</th>\n",
       "      <th>workclass</th>\n",
       "      <th>education</th>\n",
       "      <th>marital_status</th>\n",
       "      <th>occupation</th>\n",
       "      <th>race</th>\n",
       "      <th>gender</th>\n",
       "      <th>hours_per_week</th>\n",
       "      <th>income</th>\n",
       "    </tr>\n",
       "  </thead>\n",
       "  <tbody>\n",
       "    <tr>\n",
       "      <th>0</th>\n",
       "      <td>-</td>\n",
       "      <td>-</td>\n",
       "      <td>Prof-school</td>\n",
       "      <td>-</td>\n",
       "      <td>-</td>\n",
       "      <td>-</td>\n",
       "      <td>-</td>\n",
       "      <td>47</td>\n",
       "      <td>1</td>\n",
       "    </tr>\n",
       "    <tr>\n",
       "      <th>1</th>\n",
       "      <td>73</td>\n",
       "      <td>-</td>\n",
       "      <td>Prof-school</td>\n",
       "      <td>-</td>\n",
       "      <td>-</td>\n",
       "      <td>-</td>\n",
       "      <td>-</td>\n",
       "      <td>-</td>\n",
       "      <td>1</td>\n",
       "    </tr>\n",
       "  </tbody>\n",
       "</table>\n",
       "</div>"
      ],
      "text/plain": [
       "  age workclass    education marital_status occupation race gender  \\\n",
       "0   -         -  Prof-school              -          -    -      -   \n",
       "1  73         -  Prof-school              -          -    -      -   \n",
       "\n",
       "  hours_per_week income  \n",
       "0             47      1  \n",
       "1              -      1  "
      ]
     },
     "metadata": {},
     "output_type": "display_data"
    }
   ],
   "source": [
    "e1 = exp.generate_counterfactuals(x_test[0:1], total_CFs=2, desired_class=\"opposite\")\n",
    "e1.visualize_as_dataframe(show_only_changes=True)"
   ]
  },
  {
   "cell_type": "code",
   "execution_count": 106,
   "metadata": {},
   "outputs": [
    {
     "data": {
      "text/plain": [
       "8"
      ]
     },
     "execution_count": 106,
     "metadata": {},
     "output_type": "execute_result"
    }
   ],
   "source": [
    "model.n_features_in_"
   ]
  }
 ],
 "metadata": {
  "kernelspec": {
   "display_name": "Python 3",
   "language": "python",
   "name": "python3"
  },
  "language_info": {
   "codemirror_mode": {
    "name": "ipython",
    "version": 3
   },
   "file_extension": ".py",
   "mimetype": "text/x-python",
   "name": "python",
   "nbconvert_exporter": "python",
   "pygments_lexer": "ipython3",
   "version": "3.10.10"
  }
 },
 "nbformat": 4,
 "nbformat_minor": 2
}
