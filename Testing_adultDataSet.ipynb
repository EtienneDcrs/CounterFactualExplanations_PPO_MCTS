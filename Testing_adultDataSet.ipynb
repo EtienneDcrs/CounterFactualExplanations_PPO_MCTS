{
 "cells": [
  {
   "cell_type": "code",
   "execution_count": null,
   "metadata": {},
   "outputs": [],
   "source": [
    "%pip install tensorflow\n",
    "\n",
    "import numpy as np \n",
    "import pandas as pd \n",
    "import matplotlib.pyplot as plt\n",
    "from tensorflow.keras.models import Sequential\n",
    "from tensorflow.keras.layers import Dense,Flatten,InputLayer\n",
    "import zipfile\n",
    "import Generate_models\n",
    "import importlib  \n",
    "import Generate_models\n",
    "importlib.reload(Generate_models)"
   ]
  },
  {
   "cell_type": "code",
   "execution_count": null,
   "metadata": {},
   "outputs": [],
   "source": [
    "outdirname = 'data/adult'\n",
    "zipfilename = outdirname + '.zip'\n",
    "with zipfile.ZipFile(zipfilename, 'r') as unzip:\n",
    "        unzip.extractall(outdirname)\n",
    "raw_data = np.genfromtxt(outdirname + '/adult.data',delimiter=', ', dtype=str, invalid_raise=False)\n"
   ]
  },
  {
   "cell_type": "code",
   "execution_count": null,
   "metadata": {},
   "outputs": [],
   "source": [
    "column_names = ['age', 'workclass', 'fnlwgt', 'education', 'educational-num', 'marital-status', 'occupation',\n",
    "                    'relationship', 'race', 'gender', 'capital-gain', 'capital-loss', 'hours-per-week', 'native-country',\n",
    "                    'income']\n",
    "\n",
    "adult_data = pd.DataFrame(raw_data, columns=column_names)"
   ]
  },
  {
   "cell_type": "code",
   "execution_count": null,
   "metadata": {},
   "outputs": [],
   "source": [
    "adult_data[\"age\"]=adult_data[\"age\"].apply(lambda x: int(x))\n",
    "adult_data[\"fnlwgt\"]=adult_data[\"fnlwgt\"].apply(lambda x: float(x))\n",
    "adult_data[\"educational-num\"]=adult_data[\"educational-num\"].apply(lambda x: int(x))\n",
    "adult_data[\"capital-gain\"]=adult_data[\"capital-gain\"].apply(lambda x: float(x))\n",
    "adult_data[\"capital-loss\"]=adult_data[\"capital-loss\"].apply(lambda x: float(x))\n",
    "adult_data[\"hours-per-week\"]=adult_data[\"hours-per-week\"].apply(lambda x: float(x))\n"
   ]
  },
  {
   "cell_type": "code",
   "execution_count": null,
   "metadata": {},
   "outputs": [],
   "source": [
    "input_features=['age', 'workclass', 'fnlwgt', 'education', 'educational-num', 'marital-status', 'occupation',\n",
    "                    'relationship', 'race', 'gender', 'capital-gain', 'capital-loss', 'hours-per-week', 'native-country']\n",
    "output=\"income\"\n"
   ]
  },
  {
   "cell_type": "code",
   "execution_count": null,
   "metadata": {},
   "outputs": [],
   "source": [
    "adult_data"
   ]
  },
  {
   "cell_type": "code",
   "execution_count": null,
   "metadata": {},
   "outputs": [],
   "source": [
    "model = Sequential()\n",
    "model.add(InputLayer(shape=(1,14)))\n",
    "\n",
    "model.add(Dense(150, activation='relu'))  \n",
    "\n",
    "# Hidden layers\n",
    "model.add(Dense(64, activation='relu'))  \n",
    "model.add(Dense(16, activation='relu'))  \n",
    "model.add(Flatten()) \n",
    "model.add(Dense(1, activation='sigmoid'))  \n",
    "\n",
    "# Compile the model\n",
    "model.compile(optimizer='adam',\n",
    "              loss='binary_crossentropy',  \n",
    "              metrics=['accuracy'])"
   ]
  },
  {
   "cell_type": "code",
   "execution_count": null,
   "metadata": {},
   "outputs": [],
   "source": [
    "model.summary()"
   ]
  },
  {
   "cell_type": "code",
   "execution_count": null,
   "metadata": {},
   "outputs": [],
   "source": [
    "Gm=Generate_models.Generate_model(data=adult_data,input_features=input_features,output=output,problem=\"classification\",categorical_features=['workclass', 'education', 'marital-status', 'occupation',\n",
    "                    'relationship', 'race', 'gender', 'native-country','income'],test_size=0.2,n_steps_in=1,n_steps_out=1,dType=\"notsequence\")"
   ]
  },
  {
   "cell_type": "code",
   "execution_count": null,
   "metadata": {},
   "outputs": [],
   "source": [
    "model,xtrain,ytrain,xtest,ytest,encoder,norm=Gm.build_model(model=model,epochs=20)"
   ]
  },
  {
   "cell_type": "code",
   "execution_count": null,
   "metadata": {},
   "outputs": [],
   "source": [
    "model.save(\"./classification_models/adult.keras\")"
   ]
  },
  {
   "cell_type": "code",
   "execution_count": null,
   "metadata": {},
   "outputs": [],
   "source": [
    "sample = adult_data.sample(1)\n",
    "print(\"Sample from adult_data:\")\n",
    "print(sample)\n",
    "sample_input = sample[input_features]\n",
    "\n",
    "# Preprocess the sample using the same pipeline as training data\n",
    "# If Gm has a transform/preprocess method, use it. Otherwise, use encoder and norm manually.\n",
    "# Example using Gm (adjust if your method name is different):\n",
    "if hasattr(Gm, \"transform\"):\n",
    "\tprocessed_sample = Gm.transform(sample_input)\n",
    "else:\n",
    "\t# Manual preprocessing (encoding + normalization)\n",
    "\t# Encode categorical features\n",
    "\tsample_encoded = sample_input.copy()\n",
    "\tcategorical_features = ['workclass', 'education', 'marital-status', 'occupation',\n",
    "\t\t\t\t\t\t\t'relationship', 'race', 'gender', 'native-country']\n",
    "\tfor i, col in enumerate(categorical_features):\n",
    "\t\tle = encoder[i]\n",
    "\t\tsample_encoded[col] = le.transform(sample_encoded[col])\n",
    "\t# Normalize numerical features\n",
    "\tnumerical_features = ['age', 'workclass', 'fnlwgt', 'education', 'educational-num', 'marital-status', 'occupation',\n",
    "                    'relationship', 'race', 'gender', 'capital-gain', 'capital-loss', 'hours-per-week', 'native-country']\n",
    "\tsample_encoded[numerical_features] = norm[0].transform(sample_encoded[numerical_features])\n",
    "\tprocessed_sample = sample_encoded.values.astype(np.float32)\n",
    "\t\n",
    "\tprocessed_sample = processed_sample.reshape(1, 1, -1)\n",
    "\n",
    "# Predict\n",
    "if hasattr(Gm, \"transform\"):\n",
    "\tpred = model.predict(processed_sample)\n",
    "else:\n",
    "\tpred = model.predict(processed_sample)\n",
    "\n",
    "pred = np.round(pred).astype(int)\n",
    "print(\"Sample input:\")\n",
    "print(sample_input)\n",
    "print(\"Predicted output:\")\n",
    "print(pred)\n",
    "print(\"Real output (from adult_data):\")\n",
    "print(sample[output])\n"
   ]
  },
  {
   "cell_type": "code",
   "execution_count": null,
   "metadata": {},
   "outputs": [],
   "source": [
    "import Cf_explanation as cfe"
   ]
  },
  {
   "cell_type": "code",
   "execution_count": null,
   "metadata": {},
   "outputs": [],
   "source": [
    "query_instance1=xtest[0]\n",
    "pr1=np.array(model.predict(np.reshape(query_instance1,(1,1,14)), verbose=0)).flatten()[0]\n",
    "query_instance2=xtest[80]\n",
    "pr11=np.array(model.predict(np.reshape(query_instance2,(1,1,14)), verbose=0)).flatten()[0]\n",
    "pr1,pr11"
   ]
  },
  {
   "cell_type": "code",
   "execution_count": null,
   "metadata": {},
   "outputs": [],
   "source": [
    "population=np.concatenate((xtrain[0:50],xtest[5:50]))"
   ]
  },
  {
   "cell_type": "code",
   "execution_count": null,
   "metadata": {},
   "outputs": [],
   "source": [
    "cf = cfe.Conterfactual(\n",
    "    model=model,\n",
    "    query_instance=query_instance1,\n",
    "    problem=\"classification\",   # You can set this to \"regression\" \n",
    "    total_CFs=5,               # Number of counterfactuals you want\n",
    "    number_of_features=14,\n",
    "    length=1,\n",
    "    permitted_features=[1,2,4,6,7,10,11,12],\n",
    "    correlated_feature=[],# Assuming no correlation for now\n",
    "    direction=\"greater\"       \n",
    ")\n",
    "\n",
    "# Generate counterfactual explanations\n",
    "best_population = cf.Explane(population,method=\"NSGA2\",max_itera=100)\n",
    "\n",
    "# Print the resulting counterfactuals\n",
    "print(\"Counterfactual explanations generated:\")\n",
    "print(best_population)"
   ]
  },
  {
   "cell_type": "code",
   "execution_count": null,
   "metadata": {},
   "outputs": [],
   "source": [
    "len(best_population[0])"
   ]
  },
  {
   "cell_type": "code",
   "execution_count": null,
   "metadata": {},
   "outputs": [],
   "source": [
    "plt.plot(best_population[1][4:])\n",
    "plt.ylabel(\"fitness value\")\n",
    "plt.xlabel(\"iteration\")\n",
    " #fitness updates"
   ]
  },
  {
   "cell_type": "code",
   "execution_count": null,
   "metadata": {},
   "outputs": [],
   "source": [
    "input_columns=['age', 'workclass', 'fnlwgt', 'education', 'educational-num', 'marital-status', 'occupation','relationship', 'race', 'gender', 'capital-gain', 'capital-loss', 'hours-per-week', 'native-country']\n",
    "categorical_columns=['workclass', 'education', 'marital-status', 'occupation','relationship', 'race', 'gender', 'native-country']\n",
    "\n",
    "    \n",
    "\n",
    "\n",
    "    \n"
   ]
  },
  {
   "cell_type": "code",
   "execution_count": null,
   "metadata": {},
   "outputs": [],
   "source": [
    "p=cf.Visualization(best_population[0],input_columns=input_columns,categorical_columns=categorical_columns,encoder=encoder,norm=norm[0])"
   ]
  },
  {
   "cell_type": "code",
   "execution_count": null,
   "metadata": {},
   "outputs": [],
   "source": [
    "p"
   ]
  },
  {
   "cell_type": "code",
   "execution_count": null,
   "metadata": {},
   "outputs": [],
   "source": [
    "cf = cfe.Conterfactual(\n",
    "    model=model,\n",
    "    query_instance=query_instance1,\n",
    "    problem=\"classification\",   # You can set this to \"regression\" \n",
    "    total_CFs=5,               # Number of counterfactuals you want\n",
    "    number_of_features=14,\n",
    "    length=1,\n",
    "    permitted_features=[], # do not change[age,education,marital-status,race,gender,native-country]\n",
    "    correlated_feature=[],# Assuming no correlation for now\n",
    "    direction=\"greater\"       \n",
    ")\n",
    "\n",
    "# Generate counterfactual explanations\n",
    "best_population = cf.Explane(population,method=\"GENO-TOPSIS\",max_itera=100)\n",
    "\n",
    "# Print the resulting counterfactuals\n",
    "print(\"Counterfactual explanations generated:\")\n",
    "print(best_population)"
   ]
  },
  {
   "cell_type": "code",
   "execution_count": null,
   "metadata": {},
   "outputs": [],
   "source": [
    "p=cf.Visualization(best_population[0],input_columns=input_columns,categorical_columns=categorical_columns,encoder=encoder,norm=norm[0])"
   ]
  },
  {
   "cell_type": "code",
   "execution_count": null,
   "metadata": {},
   "outputs": [],
   "source": [
    "p"
   ]
  },
  {
   "cell_type": "code",
   "execution_count": null,
   "metadata": {},
   "outputs": [],
   "source": [
    "cf.Distribution(best_population[0])"
   ]
  },
  {
   "cell_type": "code",
   "execution_count": null,
   "metadata": {},
   "outputs": [],
   "source": [
    "pip install dice-ml"
   ]
  },
  {
   "cell_type": "code",
   "execution_count": null,
   "metadata": {},
   "outputs": [],
   "source": [
    "# Sklearn imports\n",
    "from sklearn.compose import ColumnTransformer\n",
    "from sklearn.model_selection import train_test_split\n",
    "from sklearn.pipeline import Pipeline\n",
    "from sklearn.preprocessing import OneHotEncoder\n",
    "from sklearn.ensemble import RandomForestClassifier\n",
    "\n",
    "# DiCE imports\n",
    "import dice_ml\n",
    "from dice_ml.utils import helpers  # helper functions"
   ]
  },
  {
   "cell_type": "code",
   "execution_count": null,
   "metadata": {},
   "outputs": [],
   "source": [
    "dataset = helpers.load_adult_income_dataset()"
   ]
  },
  {
   "cell_type": "code",
   "execution_count": null,
   "metadata": {},
   "outputs": [],
   "source": [
    "dataset.head()"
   ]
  },
  {
   "cell_type": "code",
   "execution_count": null,
   "metadata": {},
   "outputs": [],
   "source": [
    "# description of transformed features\n",
    "adult_info = helpers.get_adult_data_info()\n",
    "adult_info"
   ]
  },
  {
   "cell_type": "code",
   "execution_count": null,
   "metadata": {},
   "outputs": [],
   "source": [
    "target = dataset[\"income\"]\n",
    "train_dataset, test_dataset, y_train, y_test = train_test_split(dataset,\n",
    "                                                                target,\n",
    "                                                                test_size=0.2,\n",
    "                                                                random_state=0,\n",
    "                                                                stratify=target)\n",
    "x_train = train_dataset.drop('income', axis=1)\n",
    "x_test = test_dataset.drop('income', axis=1)"
   ]
  },
  {
   "cell_type": "code",
   "execution_count": null,
   "metadata": {},
   "outputs": [],
   "source": [
    "# Step 1: dice_ml.Data\n",
    "d = dice_ml.Data(dataframe=train_dataset, continuous_features=['age', 'hours_per_week'], outcome_name='income')"
   ]
  },
  {
   "cell_type": "code",
   "execution_count": null,
   "metadata": {},
   "outputs": [],
   "source": [
    "numerical = [\"age\", \"hours_per_week\"]\n",
    "categorical = x_train.columns.difference(numerical)\n",
    "\n",
    "categorical_transformer = Pipeline(steps=[\n",
    "    ('onehot', OneHotEncoder(handle_unknown='ignore'))])\n",
    "\n",
    "transformations = ColumnTransformer(\n",
    "    transformers=[\n",
    "        ('cat', categorical_transformer, categorical)])\n",
    "\n",
    "# Append classifier to preprocessing pipeline.\n",
    "# Now we have a full prediction pipeline.\n",
    "clf = Pipeline(steps=[('preprocessor', transformations),\n",
    "                      ('classifier', RandomForestClassifier())])\n",
    "model = clf.fit(x_train, y_train)"
   ]
  },
  {
   "cell_type": "code",
   "execution_count": null,
   "metadata": {},
   "outputs": [],
   "source": [
    "# Using sklearn backend\n",
    "m = dice_ml.Model(model=model, backend=\"sklearn\")\n",
    "# Using method=random for generating CFs\n",
    "exp = dice_ml.Dice(d, m, method=\"random\")"
   ]
  },
  {
   "cell_type": "code",
   "execution_count": null,
   "metadata": {},
   "outputs": [],
   "source": [
    "e1 = exp.generate_counterfactuals(x_test[0:1], total_CFs=2, desired_class=\"opposite\")\n",
    "e1.visualize_as_dataframe(show_only_changes=True)"
   ]
  },
  {
   "cell_type": "code",
   "execution_count": null,
   "metadata": {},
   "outputs": [],
   "source": [
    "model.n_features_in_"
   ]
  }
 ],
 "metadata": {
  "kernelspec": {
   "display_name": "myenv",
   "language": "python",
   "name": "python3"
  },
  "language_info": {
   "codemirror_mode": {
    "name": "ipython",
    "version": 3
   },
   "file_extension": ".py",
   "mimetype": "text/x-python",
   "name": "python",
   "nbconvert_exporter": "python",
   "pygments_lexer": "ipython3",
   "version": "3.12.3"
  }
 },
 "nbformat": 4,
 "nbformat_minor": 2
}
